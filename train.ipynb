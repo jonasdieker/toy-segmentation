{
 "cells": [
  {
   "cell_type": "code",
   "execution_count": null,
   "metadata": {},
   "outputs": [],
   "source": [
    "import torch\n",
    "import torch.optim as optim\n",
    "from torch.nn import CrossEntropyLoss\n",
    "from torch.utils.data import DataLoader\n",
    "\n",
    "from dataset import CustomDataset\n",
    "from model import UNet"
   ]
  },
  {
   "cell_type": "markdown",
   "metadata": {},
   "source": [
    "## Train Model"
   ]
  },
  {
   "cell_type": "code",
   "execution_count": null,
   "metadata": {},
   "outputs": [],
   "source": [
    "# fine hyper params\n",
    "batch_size = 8\n",
    "max_epochs = 20\n",
    "lr = 0.0001\n",
    "betas = (0.9, 0.999)\n",
    "num_classes = 12\n",
    "\n",
    "device = \"cuda\" if torch.cuda.is_available() else \"cpu\"\n",
    "loss = CrossEntropyLoss()\n",
    "model = UNet(3, num_classes).double().to(device)\n",
    "optimizer = optim.Adam(model.parameters(), lr=lr, betas=betas)\n",
    "train_dataset = CustomDataset(\n",
    "    image_root=\"/content/drive/MyDrive/CamVid/train\",\n",
    "    mask_root=\"/content/drive/MyDrive/CamVid/train_labels\",\n",
    ")\n",
    "val_dataset = CustomDataset(\n",
    "    image_root=\"/content/CamVid/val\",\n",
    "    mask_root=\"/content/CamVid/val_labels\",\n",
    ")\n",
    "\n",
    "train_dataloader = DataLoader(\n",
    "    train_dataset, batch_size, shuffle=True, num_workers=2\n",
    ")\n",
    "val_dataloader = DataLoader(val_dataset, batch_size, shuffle=False, num_workers=2)\n",
    "\n",
    "for epoch in range(max_epochs):\n",
    "    train_val_epoch(model, train_dataloader, loss, epoch, device, optimizer, train=True)\n",
    "    train_val_epoch(model, val_dataloader, loss, epoch, device, train=False)\n",
    "\n",
    "torch.save(model.state_dict(), \"model.pth\")"
   ]
  }
 ],
 "metadata": {
  "language_info": {
   "name": "python"
  }
 },
 "nbformat": 4,
 "nbformat_minor": 2
}
